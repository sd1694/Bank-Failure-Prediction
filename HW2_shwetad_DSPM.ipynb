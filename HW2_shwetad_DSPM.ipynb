{
 "cells": [
  {
   "cell_type": "markdown",
   "metadata": {},
   "source": [
    "# Bank Failure Prediction"
   ]
  },
  {
   "cell_type": "code",
   "execution_count": 1,
   "metadata": {},
   "outputs": [],
   "source": [
    "import numpy as np\n",
    "import pandas as pd\n",
    "import matplotlib.pyplot as plt\n",
    "import seaborn as sns\n",
    "from sklearn import svm"
   ]
  },
  {
   "cell_type": "code",
   "execution_count": 2,
   "metadata": {},
   "outputs": [
    {
     "data": {
      "text/html": [
       "<div>\n",
       "<style scoped>\n",
       "    .dataframe tbody tr th:only-of-type {\n",
       "        vertical-align: middle;\n",
       "    }\n",
       "\n",
       "    .dataframe tbody tr th {\n",
       "        vertical-align: top;\n",
       "    }\n",
       "\n",
       "    .dataframe thead th {\n",
       "        text-align: right;\n",
       "    }\n",
       "</style>\n",
       "<table border=\"1\" class=\"dataframe\">\n",
       "  <thead>\n",
       "    <tr style=\"text-align: right;\">\n",
       "      <th></th>\n",
       "      <th>Bank Name</th>\n",
       "      <th>Quarter</th>\n",
       "      <th>Tier One</th>\n",
       "      <th>Texas</th>\n",
       "      <th>Size</th>\n",
       "      <th>Brokered Deposits</th>\n",
       "      <th>Net Chargeoffs</th>\n",
       "      <th>Constr and Land Dev Loans</th>\n",
       "      <th>Change in Portfolio Mix</th>\n",
       "      <th>NP CRE to Assets</th>\n",
       "      <th>Volatile Liabilities to Assets</th>\n",
       "      <th>Securities</th>\n",
       "      <th>Failed during 2010Q2</th>\n",
       "      <th>Cert Number</th>\n",
       "    </tr>\n",
       "  </thead>\n",
       "  <tbody>\n",
       "    <tr>\n",
       "      <th>0</th>\n",
       "      <td>Exchange Bank</td>\n",
       "      <td>2007Q4</td>\n",
       "      <td>14.90</td>\n",
       "      <td>19.36</td>\n",
       "      <td>32.852108</td>\n",
       "      <td>0.0</td>\n",
       "      <td>0.03</td>\n",
       "      <td>23.13</td>\n",
       "      <td>3.38</td>\n",
       "      <td>0.190681</td>\n",
       "      <td>20.16</td>\n",
       "      <td>99.07</td>\n",
       "      <td>No</td>\n",
       "      <td>160</td>\n",
       "    </tr>\n",
       "    <tr>\n",
       "      <th>1</th>\n",
       "      <td>Exchange Bank</td>\n",
       "      <td>2008Q1</td>\n",
       "      <td>14.30</td>\n",
       "      <td>20.86</td>\n",
       "      <td>33.542390</td>\n",
       "      <td>0.0</td>\n",
       "      <td>0.00</td>\n",
       "      <td>32.96</td>\n",
       "      <td>4.96</td>\n",
       "      <td>0.000000</td>\n",
       "      <td>21.23</td>\n",
       "      <td>99.45</td>\n",
       "      <td>No</td>\n",
       "      <td>160</td>\n",
       "    </tr>\n",
       "    <tr>\n",
       "      <th>2</th>\n",
       "      <td>Exchange Bank</td>\n",
       "      <td>2008Q2</td>\n",
       "      <td>14.15</td>\n",
       "      <td>20.89</td>\n",
       "      <td>34.140007</td>\n",
       "      <td>0.0</td>\n",
       "      <td>0.31</td>\n",
       "      <td>33.71</td>\n",
       "      <td>1.53</td>\n",
       "      <td>0.022408</td>\n",
       "      <td>19.69</td>\n",
       "      <td>97.94</td>\n",
       "      <td>No</td>\n",
       "      <td>160</td>\n",
       "    </tr>\n",
       "    <tr>\n",
       "      <th>3</th>\n",
       "      <td>Exchange Bank</td>\n",
       "      <td>2008Q3</td>\n",
       "      <td>14.13</td>\n",
       "      <td>18.74</td>\n",
       "      <td>34.038758</td>\n",
       "      <td>0.0</td>\n",
       "      <td>-0.02</td>\n",
       "      <td>34.99</td>\n",
       "      <td>3.80</td>\n",
       "      <td>0.147452</td>\n",
       "      <td>19.83</td>\n",
       "      <td>98.84</td>\n",
       "      <td>No</td>\n",
       "      <td>160</td>\n",
       "    </tr>\n",
       "    <tr>\n",
       "      <th>4</th>\n",
       "      <td>Exchange Bank</td>\n",
       "      <td>2008Q4</td>\n",
       "      <td>14.21</td>\n",
       "      <td>21.82</td>\n",
       "      <td>34.059328</td>\n",
       "      <td>0.0</td>\n",
       "      <td>1.21</td>\n",
       "      <td>37.14</td>\n",
       "      <td>3.86</td>\n",
       "      <td>0.057306</td>\n",
       "      <td>15.29</td>\n",
       "      <td>99.84</td>\n",
       "      <td>No</td>\n",
       "      <td>160</td>\n",
       "    </tr>\n",
       "  </tbody>\n",
       "</table>\n",
       "</div>"
      ],
      "text/plain": [
       "       Bank Name Quarter  Tier One  Texas       Size  Brokered Deposits  \\\n",
       "0  Exchange Bank  2007Q4     14.90  19.36  32.852108                0.0   \n",
       "1  Exchange Bank  2008Q1     14.30  20.86  33.542390                0.0   \n",
       "2  Exchange Bank  2008Q2     14.15  20.89  34.140007                0.0   \n",
       "3  Exchange Bank  2008Q3     14.13  18.74  34.038758                0.0   \n",
       "4  Exchange Bank  2008Q4     14.21  21.82  34.059328                0.0   \n",
       "\n",
       "   Net Chargeoffs  Constr and Land Dev Loans  Change in Portfolio Mix  \\\n",
       "0            0.03                      23.13                     3.38   \n",
       "1            0.00                      32.96                     4.96   \n",
       "2            0.31                      33.71                     1.53   \n",
       "3           -0.02                      34.99                     3.80   \n",
       "4            1.21                      37.14                     3.86   \n",
       "\n",
       "   NP CRE to Assets  Volatile Liabilities to Assets  Securities  \\\n",
       "0          0.190681                           20.16       99.07   \n",
       "1          0.000000                           21.23       99.45   \n",
       "2          0.022408                           19.69       97.94   \n",
       "3          0.147452                           19.83       98.84   \n",
       "4          0.057306                           15.29       99.84   \n",
       "\n",
       "  Failed during 2010Q2  Cert Number  \n",
       "0                   No          160  \n",
       "1                   No          160  \n",
       "2                   No          160  \n",
       "3                   No          160  \n",
       "4                   No          160  "
      ]
     },
     "execution_count": 2,
     "metadata": {},
     "output_type": "execute_result"
    }
   ],
   "source": [
    "df = pd.read_excel(open('Bank failure data.xlsx','rb'), sheet_name='Bank Data')\n",
    "df.head()"
   ]
  },
  {
   "cell_type": "code",
   "execution_count": 3,
   "metadata": {},
   "outputs": [
    {
     "data": {
      "text/plain": [
       "Index(['Texas', 'Brokered Deposits', 'Net Chargeoffs'], dtype='object')"
      ]
     },
     "execution_count": 3,
     "metadata": {},
     "output_type": "execute_result"
    }
   ],
   "source": [
    "null_columns = df.columns[df.isnull().any()]\n",
    "null_columns"
   ]
  },
  {
   "cell_type": "code",
   "execution_count": 4,
   "metadata": {
    "scrolled": true
   },
   "outputs": [
    {
     "name": "stdout",
     "output_type": "stream",
     "text": [
      "Desrcriptive statistics\n"
     ]
    },
    {
     "data": {
      "text/html": [
       "<div>\n",
       "<style scoped>\n",
       "    .dataframe tbody tr th:only-of-type {\n",
       "        vertical-align: middle;\n",
       "    }\n",
       "\n",
       "    .dataframe tbody tr th {\n",
       "        vertical-align: top;\n",
       "    }\n",
       "\n",
       "    .dataframe thead th {\n",
       "        text-align: right;\n",
       "    }\n",
       "</style>\n",
       "<table border=\"1\" class=\"dataframe\">\n",
       "  <thead>\n",
       "    <tr style=\"text-align: right;\">\n",
       "      <th></th>\n",
       "      <th>Tier One</th>\n",
       "      <th>Texas</th>\n",
       "      <th>Size</th>\n",
       "      <th>Brokered Deposits</th>\n",
       "      <th>Net Chargeoffs</th>\n",
       "      <th>Constr and Land Dev Loans</th>\n",
       "      <th>Change in Portfolio Mix</th>\n",
       "      <th>NP CRE to Assets</th>\n",
       "      <th>Volatile Liabilities to Assets</th>\n",
       "      <th>Securities</th>\n",
       "      <th>Cert Number</th>\n",
       "    </tr>\n",
       "  </thead>\n",
       "  <tbody>\n",
       "    <tr>\n",
       "      <th>count</th>\n",
       "      <td>4060.000000</td>\n",
       "      <td>3997.000000</td>\n",
       "      <td>4060.000000</td>\n",
       "      <td>4040.000000</td>\n",
       "      <td>4054.000000</td>\n",
       "      <td>4060.000000</td>\n",
       "      <td>4060.000000</td>\n",
       "      <td>4060.000000</td>\n",
       "      <td>4060.000000</td>\n",
       "      <td>4060.000000</td>\n",
       "      <td>4060.000000</td>\n",
       "    </tr>\n",
       "    <tr>\n",
       "      <th>mean</th>\n",
       "      <td>15.818138</td>\n",
       "      <td>29.437163</td>\n",
       "      <td>31.120431</td>\n",
       "      <td>6.209186</td>\n",
       "      <td>1.087743</td>\n",
       "      <td>10.994961</td>\n",
       "      <td>4.912611</td>\n",
       "      <td>0.704697</td>\n",
       "      <td>22.784638</td>\n",
       "      <td>100.652315</td>\n",
       "      <td>22579.123153</td>\n",
       "    </tr>\n",
       "    <tr>\n",
       "      <th>std</th>\n",
       "      <td>16.759611</td>\n",
       "      <td>84.947978</td>\n",
       "      <td>14.624115</td>\n",
       "      <td>13.025505</td>\n",
       "      <td>3.312639</td>\n",
       "      <td>11.627024</td>\n",
       "      <td>5.626908</td>\n",
       "      <td>1.325783</td>\n",
       "      <td>11.762271</td>\n",
       "      <td>2.910710</td>\n",
       "      <td>18169.482027</td>\n",
       "    </tr>\n",
       "    <tr>\n",
       "      <th>min</th>\n",
       "      <td>-11.510000</td>\n",
       "      <td>0.000000</td>\n",
       "      <td>-6.422059</td>\n",
       "      <td>0.000000</td>\n",
       "      <td>-2.890000</td>\n",
       "      <td>0.000000</td>\n",
       "      <td>0.000000</td>\n",
       "      <td>0.000000</td>\n",
       "      <td>0.000000</td>\n",
       "      <td>80.870000</td>\n",
       "      <td>160.000000</td>\n",
       "    </tr>\n",
       "    <tr>\n",
       "      <th>25%</th>\n",
       "      <td>10.190000</td>\n",
       "      <td>3.310000</td>\n",
       "      <td>21.257232</td>\n",
       "      <td>0.000000</td>\n",
       "      <td>0.000000</td>\n",
       "      <td>2.260000</td>\n",
       "      <td>2.110000</td>\n",
       "      <td>0.000000</td>\n",
       "      <td>14.720000</td>\n",
       "      <td>99.870000</td>\n",
       "      <td>9420.000000</td>\n",
       "    </tr>\n",
       "    <tr>\n",
       "      <th>50%</th>\n",
       "      <td>12.490000</td>\n",
       "      <td>11.640000</td>\n",
       "      <td>29.022062</td>\n",
       "      <td>0.000000</td>\n",
       "      <td>0.200000</td>\n",
       "      <td>7.505000</td>\n",
       "      <td>3.580000</td>\n",
       "      <td>0.236864</td>\n",
       "      <td>21.350000</td>\n",
       "      <td>100.680000</td>\n",
       "      <td>17840.000000</td>\n",
       "    </tr>\n",
       "    <tr>\n",
       "      <th>75%</th>\n",
       "      <td>16.910000</td>\n",
       "      <td>26.040000</td>\n",
       "      <td>39.464289</td>\n",
       "      <td>6.730000</td>\n",
       "      <td>0.880000</td>\n",
       "      <td>15.885000</td>\n",
       "      <td>5.830000</td>\n",
       "      <td>0.818007</td>\n",
       "      <td>28.752500</td>\n",
       "      <td>101.772500</td>\n",
       "      <td>32955.000000</td>\n",
       "    </tr>\n",
       "    <tr>\n",
       "      <th>max</th>\n",
       "      <td>334.030000</td>\n",
       "      <td>2388.810000</td>\n",
       "      <td>104.961976</td>\n",
       "      <td>97.640000</td>\n",
       "      <td>106.350000</td>\n",
       "      <td>84.200000</td>\n",
       "      <td>100.000000</td>\n",
       "      <td>22.057423</td>\n",
       "      <td>90.030000</td>\n",
       "      <td>188.700000</td>\n",
       "      <td>91280.000000</td>\n",
       "    </tr>\n",
       "  </tbody>\n",
       "</table>\n",
       "</div>"
      ],
      "text/plain": [
       "          Tier One        Texas         Size  Brokered Deposits  \\\n",
       "count  4060.000000  3997.000000  4060.000000        4040.000000   \n",
       "mean     15.818138    29.437163    31.120431           6.209186   \n",
       "std      16.759611    84.947978    14.624115          13.025505   \n",
       "min     -11.510000     0.000000    -6.422059           0.000000   \n",
       "25%      10.190000     3.310000    21.257232           0.000000   \n",
       "50%      12.490000    11.640000    29.022062           0.000000   \n",
       "75%      16.910000    26.040000    39.464289           6.730000   \n",
       "max     334.030000  2388.810000   104.961976          97.640000   \n",
       "\n",
       "       Net Chargeoffs  Constr and Land Dev Loans  Change in Portfolio Mix  \\\n",
       "count     4054.000000                4060.000000              4060.000000   \n",
       "mean         1.087743                  10.994961                 4.912611   \n",
       "std          3.312639                  11.627024                 5.626908   \n",
       "min         -2.890000                   0.000000                 0.000000   \n",
       "25%          0.000000                   2.260000                 2.110000   \n",
       "50%          0.200000                   7.505000                 3.580000   \n",
       "75%          0.880000                  15.885000                 5.830000   \n",
       "max        106.350000                  84.200000               100.000000   \n",
       "\n",
       "       NP CRE to Assets  Volatile Liabilities to Assets   Securities  \\\n",
       "count       4060.000000                     4060.000000  4060.000000   \n",
       "mean           0.704697                       22.784638   100.652315   \n",
       "std            1.325783                       11.762271     2.910710   \n",
       "min            0.000000                        0.000000    80.870000   \n",
       "25%            0.000000                       14.720000    99.870000   \n",
       "50%            0.236864                       21.350000   100.680000   \n",
       "75%            0.818007                       28.752500   101.772500   \n",
       "max           22.057423                       90.030000   188.700000   \n",
       "\n",
       "        Cert Number  \n",
       "count   4060.000000  \n",
       "mean   22579.123153  \n",
       "std    18169.482027  \n",
       "min      160.000000  \n",
       "25%     9420.000000  \n",
       "50%    17840.000000  \n",
       "75%    32955.000000  \n",
       "max    91280.000000  "
      ]
     },
     "execution_count": 4,
     "metadata": {},
     "output_type": "execute_result"
    }
   ],
   "source": [
    "print('Desrcriptive statistics')\n",
    "df.describe()"
   ]
  },
  {
   "cell_type": "code",
   "execution_count": 5,
   "metadata": {},
   "outputs": [
    {
     "data": {
      "text/plain": [
       "Index([], dtype='object')"
      ]
     },
     "execution_count": 5,
     "metadata": {},
     "output_type": "execute_result"
    }
   ],
   "source": [
    "from sklearn.preprocessing import Imputer\n",
    "\n",
    "#imputing the values of missing data\n",
    "imputer = Imputer(missing_values ='NaN', strategy = 'mean', axis = 0)\n",
    "df[['Texas','Brokered Deposits','Net Chargeoffs']]=imputer.fit_transform(df[['Texas','Brokered Deposits','Net Chargeoffs']])\n",
    "\n",
    "null_columns1 = df.columns[df.isnull().any()]\n",
    "null_columns1"
   ]
  },
  {
   "cell_type": "code",
   "execution_count": 6,
   "metadata": {},
   "outputs": [
    {
     "data": {
      "text/html": [
       "<div>\n",
       "<style scoped>\n",
       "    .dataframe tbody tr th:only-of-type {\n",
       "        vertical-align: middle;\n",
       "    }\n",
       "\n",
       "    .dataframe tbody tr th {\n",
       "        vertical-align: top;\n",
       "    }\n",
       "\n",
       "    .dataframe thead th {\n",
       "        text-align: right;\n",
       "    }\n",
       "</style>\n",
       "<table border=\"1\" class=\"dataframe\">\n",
       "  <thead>\n",
       "    <tr style=\"text-align: right;\">\n",
       "      <th></th>\n",
       "      <th>Bank Name</th>\n",
       "      <th>Quarter</th>\n",
       "      <th>Tier One</th>\n",
       "      <th>Texas</th>\n",
       "      <th>Size</th>\n",
       "      <th>Brokered Deposits</th>\n",
       "      <th>Net Chargeoffs</th>\n",
       "      <th>Constr and Land Dev Loans</th>\n",
       "      <th>Change in Portfolio Mix</th>\n",
       "      <th>NP CRE to Assets</th>\n",
       "      <th>Volatile Liabilities to Assets</th>\n",
       "      <th>Securities</th>\n",
       "      <th>Failed during 2010Q2</th>\n",
       "      <th>Cert Number</th>\n",
       "    </tr>\n",
       "  </thead>\n",
       "  <tbody>\n",
       "    <tr>\n",
       "      <th>0</th>\n",
       "      <td>Exchange Bank</td>\n",
       "      <td>2007Q4</td>\n",
       "      <td>14.90</td>\n",
       "      <td>19.36</td>\n",
       "      <td>32.852108</td>\n",
       "      <td>0.0</td>\n",
       "      <td>0.03</td>\n",
       "      <td>23.13</td>\n",
       "      <td>3.38</td>\n",
       "      <td>0.190681</td>\n",
       "      <td>20.16</td>\n",
       "      <td>99.07</td>\n",
       "      <td>No</td>\n",
       "      <td>160</td>\n",
       "    </tr>\n",
       "    <tr>\n",
       "      <th>1</th>\n",
       "      <td>Exchange Bank</td>\n",
       "      <td>2008Q1</td>\n",
       "      <td>14.30</td>\n",
       "      <td>20.86</td>\n",
       "      <td>33.542390</td>\n",
       "      <td>0.0</td>\n",
       "      <td>0.00</td>\n",
       "      <td>32.96</td>\n",
       "      <td>4.96</td>\n",
       "      <td>0.000000</td>\n",
       "      <td>21.23</td>\n",
       "      <td>99.45</td>\n",
       "      <td>No</td>\n",
       "      <td>160</td>\n",
       "    </tr>\n",
       "    <tr>\n",
       "      <th>2</th>\n",
       "      <td>Exchange Bank</td>\n",
       "      <td>2008Q2</td>\n",
       "      <td>14.15</td>\n",
       "      <td>20.89</td>\n",
       "      <td>34.140007</td>\n",
       "      <td>0.0</td>\n",
       "      <td>0.31</td>\n",
       "      <td>33.71</td>\n",
       "      <td>1.53</td>\n",
       "      <td>0.022408</td>\n",
       "      <td>19.69</td>\n",
       "      <td>97.94</td>\n",
       "      <td>No</td>\n",
       "      <td>160</td>\n",
       "    </tr>\n",
       "    <tr>\n",
       "      <th>3</th>\n",
       "      <td>Exchange Bank</td>\n",
       "      <td>2008Q3</td>\n",
       "      <td>14.13</td>\n",
       "      <td>18.74</td>\n",
       "      <td>34.038758</td>\n",
       "      <td>0.0</td>\n",
       "      <td>-0.02</td>\n",
       "      <td>34.99</td>\n",
       "      <td>3.80</td>\n",
       "      <td>0.147452</td>\n",
       "      <td>19.83</td>\n",
       "      <td>98.84</td>\n",
       "      <td>No</td>\n",
       "      <td>160</td>\n",
       "    </tr>\n",
       "    <tr>\n",
       "      <th>4</th>\n",
       "      <td>Exchange Bank</td>\n",
       "      <td>2008Q4</td>\n",
       "      <td>14.21</td>\n",
       "      <td>21.82</td>\n",
       "      <td>34.059328</td>\n",
       "      <td>0.0</td>\n",
       "      <td>1.21</td>\n",
       "      <td>37.14</td>\n",
       "      <td>3.86</td>\n",
       "      <td>0.057306</td>\n",
       "      <td>15.29</td>\n",
       "      <td>99.84</td>\n",
       "      <td>No</td>\n",
       "      <td>160</td>\n",
       "    </tr>\n",
       "  </tbody>\n",
       "</table>\n",
       "</div>"
      ],
      "text/plain": [
       "       Bank Name Quarter  Tier One  Texas       Size  Brokered Deposits  \\\n",
       "0  Exchange Bank  2007Q4     14.90  19.36  32.852108                0.0   \n",
       "1  Exchange Bank  2008Q1     14.30  20.86  33.542390                0.0   \n",
       "2  Exchange Bank  2008Q2     14.15  20.89  34.140007                0.0   \n",
       "3  Exchange Bank  2008Q3     14.13  18.74  34.038758                0.0   \n",
       "4  Exchange Bank  2008Q4     14.21  21.82  34.059328                0.0   \n",
       "\n",
       "   Net Chargeoffs  Constr and Land Dev Loans  Change in Portfolio Mix  \\\n",
       "0            0.03                      23.13                     3.38   \n",
       "1            0.00                      32.96                     4.96   \n",
       "2            0.31                      33.71                     1.53   \n",
       "3           -0.02                      34.99                     3.80   \n",
       "4            1.21                      37.14                     3.86   \n",
       "\n",
       "   NP CRE to Assets  Volatile Liabilities to Assets  Securities  \\\n",
       "0          0.190681                           20.16       99.07   \n",
       "1          0.000000                           21.23       99.45   \n",
       "2          0.022408                           19.69       97.94   \n",
       "3          0.147452                           19.83       98.84   \n",
       "4          0.057306                           15.29       99.84   \n",
       "\n",
       "  Failed during 2010Q2  Cert Number  \n",
       "0                   No          160  \n",
       "1                   No          160  \n",
       "2                   No          160  \n",
       "3                   No          160  \n",
       "4                   No          160  "
      ]
     },
     "execution_count": 6,
     "metadata": {},
     "output_type": "execute_result"
    }
   ],
   "source": [
    "df.head()"
   ]
  },
  {
   "cell_type": "markdown",
   "metadata": {},
   "source": [
    "## What was the biggest bank at the end of 2009?"
   ]
  },
  {
   "cell_type": "code",
   "execution_count": 7,
   "metadata": {
    "scrolled": true
   },
   "outputs": [
    {
     "name": "stdout",
     "output_type": "stream",
     "text": [
      "2618    Citibank (South Dakota), N.A.\n",
      "Name: Bank Name, dtype: object\n"
     ]
    },
    {
     "data": {
      "text/html": [
       "<div>\n",
       "<style scoped>\n",
       "    .dataframe tbody tr th:only-of-type {\n",
       "        vertical-align: middle;\n",
       "    }\n",
       "\n",
       "    .dataframe tbody tr th {\n",
       "        vertical-align: top;\n",
       "    }\n",
       "\n",
       "    .dataframe thead th {\n",
       "        text-align: right;\n",
       "    }\n",
       "</style>\n",
       "<table border=\"1\" class=\"dataframe\">\n",
       "  <thead>\n",
       "    <tr style=\"text-align: right;\">\n",
       "      <th></th>\n",
       "      <th>Bank Name</th>\n",
       "      <th>Quarter</th>\n",
       "      <th>Tier One</th>\n",
       "      <th>Texas</th>\n",
       "      <th>Size</th>\n",
       "      <th>Brokered Deposits</th>\n",
       "      <th>Net Chargeoffs</th>\n",
       "      <th>Constr and Land Dev Loans</th>\n",
       "      <th>Change in Portfolio Mix</th>\n",
       "      <th>NP CRE to Assets</th>\n",
       "      <th>Volatile Liabilities to Assets</th>\n",
       "      <th>Securities</th>\n",
       "      <th>Failed during 2010Q2</th>\n",
       "      <th>Cert Number</th>\n",
       "    </tr>\n",
       "  </thead>\n",
       "  <tbody>\n",
       "    <tr>\n",
       "      <th>2618</th>\n",
       "      <td>Citibank (South Dakota), N.A.</td>\n",
       "      <td>2009Q4</td>\n",
       "      <td>12.78</td>\n",
       "      <td>0.15</td>\n",
       "      <td>99.777234</td>\n",
       "      <td>95.78</td>\n",
       "      <td>5.66</td>\n",
       "      <td>0.0</td>\n",
       "      <td>25.28</td>\n",
       "      <td>0.0</td>\n",
       "      <td>18.37</td>\n",
       "      <td>107.54</td>\n",
       "      <td>No</td>\n",
       "      <td>23360</td>\n",
       "    </tr>\n",
       "  </tbody>\n",
       "</table>\n",
       "</div>"
      ],
      "text/plain": [
       "                          Bank Name Quarter  Tier One  Texas       Size  \\\n",
       "2618  Citibank (South Dakota), N.A.  2009Q4     12.78   0.15  99.777234   \n",
       "\n",
       "      Brokered Deposits  Net Chargeoffs  Constr and Land Dev Loans  \\\n",
       "2618              95.78            5.66                        0.0   \n",
       "\n",
       "      Change in Portfolio Mix  NP CRE to Assets  \\\n",
       "2618                    25.28               0.0   \n",
       "\n",
       "      Volatile Liabilities to Assets  Securities Failed during 2010Q2  \\\n",
       "2618                           18.37      107.54                   No   \n",
       "\n",
       "      Cert Number  \n",
       "2618        23360  "
      ]
     },
     "execution_count": 7,
     "metadata": {},
     "output_type": "execute_result"
    }
   ],
   "source": [
    "df_2009Q4 = df[df['Quarter']=='2009Q4']\n",
    "print(df_2009Q4[df_2009Q4['Size']==max(df_2009Q4['Size'])]['Bank Name'])\n",
    "df_2009Q4[df_2009Q4['Size']==max(df_2009Q4['Size'])]"
   ]
  },
  {
   "cell_type": "markdown",
   "metadata": {},
   "source": [
    "## What trends do you observe in net chargeoffs over time?"
   ]
  },
  {
   "cell_type": "code",
   "execution_count": 8,
   "metadata": {},
   "outputs": [],
   "source": [
    "#Net Chargeoffs over time - checking the median change over time\n",
    "df_quarter_median = df.groupby(df['Quarter'])['Net Chargeoffs'].median()"
   ]
  },
  {
   "cell_type": "code",
   "execution_count": 9,
   "metadata": {},
   "outputs": [],
   "source": [
    "xs = np.sort(df['Quarter'].unique())\n",
    "def plotsinglegraph(df, xlbl, ylbl, tit):\n",
    "    plt.style.use('seaborn-darkgrid')\n",
    "    df[df == 0.0] = np.nan\n",
    "    df.plot(figsize=(10,5), fontsize = 10, marker='o')\n",
    "    plt.title(tit, fontsize = 15)\n",
    "    plt.xlabel(xlbl,fontsize = 15)\n",
    "    plt.ylabel(ylbl, fontsize = 15)\n",
    "    idx =xs\n",
    "    plt.xticks(range(len(idx)),idx)"
   ]
  },
  {
   "cell_type": "code",
   "execution_count": 10,
   "metadata": {},
   "outputs": [
    {
     "data": {
      "image/png": "[encoded data removed]",
      "text/plain": [
       "<Figure size 720x360 with 1 Axes>"
      ]
     },
     "metadata": {},
     "output_type": "display_data"
    }
   ],
   "source": [
    "plotsinglegraph(df_quarter_median, 'Quarter', 'Median Chargeoffs', 'Chargeoffs')"
   ]
  },
  {
   "cell_type": "code",
   "execution_count": 11,
   "metadata": {},
   "outputs": [
    {
     "data": {
      "image/png": "[encoded data removed]",
      "text/plain": [
       "<Figure size 720x360 with 1 Axes>"
      ]
     },
     "metadata": {},
     "output_type": "display_data"
    }
   ],
   "source": [
    "#Net Chargeoffs over time - checking the mean change over time\n",
    "df_quarter_mean = df.groupby(df['Quarter'])['Net Chargeoffs'].mean()\n",
    "plotsinglegraph(df_quarter_mean, 'Quarter', 'Mean Chargeoffs', 'Chargeoffs')"
   ]
  },
  {
   "cell_type": "markdown",
   "metadata": {},
   "source": [
    "We see an increasing trend in net chargeoffs over time. There is a spike in 2008Q4 and then a fall in 2009Q1. This could possibly be because of recession in 2009."
   ]
  },
  {
   "cell_type": "markdown",
   "metadata": {},
   "source": [
    "## Is there a correlation between level of profitability of a bank’s investments in securities (here measured by fair value of investments over cost basis) and bank failure?"
   ]
  },
  {
   "cell_type": "code",
   "execution_count": 12,
   "metadata": {},
   "outputs": [],
   "source": [
    "df['Failed or Not'] = np.where((df['Failed during 2010Q2'] == 'Yes'), 1, 0)"
   ]
  },
  {
   "cell_type": "code",
   "execution_count": 13,
   "metadata": {},
   "outputs": [
    {
     "data": {
      "text/plain": [
       "<matplotlib.axes._subplots.AxesSubplot at 0x276575065c0>"
      ]
     },
     "execution_count": 13,
     "metadata": {},
     "output_type": "execute_result"
    },
    {
     "data": {
      "image/png": "[encoded data removed]",
      "text/plain": [
       "<Figure size 432x288 with 2 Axes>"
      ]
     },
     "metadata": {},
     "output_type": "display_data"
    }
   ],
   "source": [
    "# Heatmap to check correlation\n",
    "corr = df.corr()\n",
    "\n",
    "sns.heatmap(corr, \n",
    "        xticklabels=corr.columns,\n",
    "        yticklabels=corr.columns)"
   ]
  },
  {
   "cell_type": "code",
   "execution_count": 14,
   "metadata": {
    "scrolled": true
   },
   "outputs": [
    {
     "data": {
      "text/plain": [
       "-0.1542227378017763"
      ]
     },
     "execution_count": 14,
     "metadata": {},
     "output_type": "execute_result"
    }
   ],
   "source": [
    "df['Securities'].corr(df['Failed or Not'])"
   ]
  },
  {
   "cell_type": "markdown",
   "metadata": {},
   "source": [
    "Not very highly correlated if we take the whole sample (i.e. banks who have or haven't failed)."
   ]
  },
  {
   "cell_type": "code",
   "execution_count": 15,
   "metadata": {},
   "outputs": [
    {
     "data": {
      "image/png": "[encoded data removed]",
      "text/plain": [
       "<Figure size 432x288 with 1 Axes>"
      ]
     },
     "metadata": {},
     "output_type": "display_data"
    }
   ],
   "source": [
    "x_values1 = np.sort(df[df['Failed or Not']==1]['Securities'])\n",
    "x_values2 = np.sort(df[df['Failed or Not']==0]['Securities'])\n",
    "y_values1 = np.arange(1, len(x_values1)+1)/len(x_values1)\n",
    "y_values2 = np.arange(1, len(x_values2)+1)/len(x_values2)\n",
    "fig, ax = plt.subplots()\n",
    "ax.plot(x_values1, y_values1, 'k--', label='Yes')\n",
    "ax.plot(x_values2, y_values2, 'b--', label='No')\n",
    "plt.xlabel('Securites')\n",
    "plt.ylabel('ECDF')\n",
    "plt.margins(0.02)\n",
    "plt.show()                     "
   ]
  },
  {
   "cell_type": "markdown",
   "metadata": {},
   "source": [
    "As evident from the graph above, We can see that at any given time, the banks who failed(black line) have lower securities than the banks who did not fail(blue line)."
   ]
  },
  {
   "cell_type": "markdown",
   "metadata": {},
   "source": [
    "## What are the top two predictors of bank failure?"
   ]
  },
  {
   "cell_type": "code",
   "execution_count": 16,
   "metadata": {},
   "outputs": [
    {
     "name": "stdout",
     "output_type": "stream",
     "text": [
      "*Top two predictors*\n",
      "Texas\n",
      "Constr and Land Dev Loans\n"
     ]
    },
    {
     "data": {
      "image/png": "[encoded data removed]",
      "text/plain": [
       "<Figure size 432x288 with 1 Axes>"
      ]
     },
     "metadata": {},
     "output_type": "display_data"
    }
   ],
   "source": [
    "from sklearn.feature_selection import SelectKBest, chi2, f_classif\n",
    "from sklearn import preprocessing\n",
    "\n",
    "df_numeric = df._get_numeric_data()\n",
    "df_numeric = df_numeric.drop(['Failed or Not','Cert Number'], axis =1)\n",
    "predictors = list(df_numeric.columns)\n",
    "\n",
    "## Min max feature scaling using MinMaxScaler from sklearn\n",
    "min_max_scaler = preprocessing.MinMaxScaler()\n",
    "X_scaled = min_max_scaler.fit_transform(df_numeric)\n",
    "X = pd.DataFrame(X_scaled)\n",
    "\n",
    "# Perform feature selection\n",
    "selector = SelectKBest(f_classif, k=2)\n",
    "selector.fit_transform(X, df[\"Failed or Not\"])\n",
    "\n",
    "print(\"*Top two predictors*\")\n",
    "for i in list(X.columns[selector.get_support(indices=True)].tolist()):\n",
    "    print(df_numeric.columns[i])\n",
    "\n",
    "# Get the raw p-values for each feature, and transform from p-values into scores\n",
    "scores = -np.log10(selector.pvalues_)\n",
    "\n",
    "# Plot the scores.\n",
    "plt.bar(range(len(predictors)), scores)\n",
    "plt.xticks(range(len(predictors)), predictors, rotation='vertical')\n",
    "plt.xlabel('Attributes')\n",
    "plt.ylabel('Scores')\n",
    "plt.show()"
   ]
  },
  {
   "cell_type": "markdown",
   "metadata": {},
   "source": [
    "Top two predictors are: Texas and Construction and Land Development Loans"
   ]
  },
  {
   "cell_type": "markdown",
   "metadata": {},
   "source": [
    "## Which banks are most likely to fail in the near future (and why)?"
   ]
  },
  {
   "cell_type": "code",
   "execution_count": 17,
   "metadata": {},
   "outputs": [],
   "source": [
    "df['Year'] = df['Quarter'].str[:4]\n",
    "max_year = max(df['Year'])"
   ]
  },
  {
   "cell_type": "code",
   "execution_count": 28,
   "metadata": {},
   "outputs": [
    {
     "name": "stdout",
     "output_type": "stream",
     "text": [
      "['Tier One', 'Texas', 'Size', 'Brokered Deposits', 'Net Chargeoffs', 'Constr and Land Dev Loans', 'Change in Portfolio Mix', 'NP CRE to Assets', 'Volatile Liabilities to Assets', 'Securities'] [[-2.89893677  4.66046814  0.35136119  2.8367846   2.37861854  5.66283107\n",
      "  -0.51233482  6.19866564  1.28599527 -2.43230875]]\n",
      "[0 1]\n",
      "Model score (Accuracy): 0.9064039408866995\n"
     ]
    }
   ],
   "source": [
    "from sklearn.linear_model import LogisticRegression\n",
    "from sklearn.metrics import confusion_matrix \n",
    "from sklearn.model_selection import train_test_split\n",
    "from sklearn import preprocessing\n",
    "from sklearn import metrics, cross_validation\n",
    "\n",
    "feature_cols = list(df_numeric.columns)\n",
    "X = df[feature_cols].values\n",
    "y = df['Failed or Not'].values\n",
    "\n",
    "## Min max feature scaling using MinMaxScaler from sklearn\n",
    "min_max_scaler = preprocessing.MinMaxScaler()\n",
    "X = min_max_scaler.fit_transform(X)\n",
    "\n",
    "## instantiate a Linear Regression model and fit to the data\n",
    "model = LogisticRegression()\n",
    "score = 0\n",
    "\n",
    "X_train, X_test, y_train, y_test = train_test_split(X, y, test_size=0.2)\n",
    "model = model.fit(X_train, y_train)\n",
    "\n",
    "crossval_pred = cross_validation.cross_val_predict(model,X_test,y_test, cv=10) \n",
    "\n",
    "# print coefficients\n",
    "print(feature_cols, model.coef_)\n",
    "print(model.classes_)\n",
    "\n",
    "score = metrics.accuracy_score(y_test, crossval_pred)\n",
    "print('Model score (Accuracy):', score)"
   ]
  },
  {
   "cell_type": "code",
   "execution_count": 29,
   "metadata": {},
   "outputs": [
    {
     "data": {
      "image/png": "[encoded data removed]",
      "text/plain": [
       "<Figure size 360x360 with 2 Axes>"
      ]
     },
     "metadata": {},
     "output_type": "display_data"
    }
   ],
   "source": [
    "#confusion matrix\n",
    "cm = confusion_matrix(y_test, crossval_pred)\n",
    "plt.figure(figsize=(5,5))\n",
    "sns.heatmap(cm, annot=True, fmt=\".3f\", linewidths=.5, square = True, cmap = 'Blues_r');\n",
    "plt.ylabel('Actual label');\n",
    "plt.xlabel('Predicted label');\n",
    "all_sample_title = 'Accuracy Score: {0}'.format(score)\n",
    "plt.title(all_sample_title, size = 15);"
   ]
  },
  {
   "cell_type": "code",
   "execution_count": 30,
   "metadata": {},
   "outputs": [
    {
     "data": {
      "text/html": [
       "<div>\n",
       "<style scoped>\n",
       "    .dataframe tbody tr th:only-of-type {\n",
       "        vertical-align: middle;\n",
       "    }\n",
       "\n",
       "    .dataframe tbody tr th {\n",
       "        vertical-align: top;\n",
       "    }\n",
       "\n",
       "    .dataframe thead th {\n",
       "        text-align: right;\n",
       "    }\n",
       "</style>\n",
       "<table border=\"1\" class=\"dataframe\">\n",
       "  <thead>\n",
       "    <tr style=\"text-align: right;\">\n",
       "      <th></th>\n",
       "      <th>Bank Name</th>\n",
       "      <th>Quarter</th>\n",
       "      <th>Tier One</th>\n",
       "      <th>Texas</th>\n",
       "      <th>Size</th>\n",
       "      <th>Brokered Deposits</th>\n",
       "      <th>Net Chargeoffs</th>\n",
       "      <th>Constr and Land Dev Loans</th>\n",
       "      <th>Change in Portfolio Mix</th>\n",
       "      <th>NP CRE to Assets</th>\n",
       "      <th>Volatile Liabilities to Assets</th>\n",
       "      <th>Securities</th>\n",
       "      <th>Failed during 2010Q2</th>\n",
       "      <th>Cert Number</th>\n",
       "      <th>Failed or Not</th>\n",
       "      <th>Year</th>\n",
       "    </tr>\n",
       "  </thead>\n",
       "  <tbody>\n",
       "    <tr>\n",
       "      <th>3441</th>\n",
       "      <td>High Desert State Bank</td>\n",
       "      <td>2008Q1</td>\n",
       "      <td>11.43</td>\n",
       "      <td>44.31</td>\n",
       "      <td>24.578474</td>\n",
       "      <td>0.00</td>\n",
       "      <td>0.08</td>\n",
       "      <td>74.36</td>\n",
       "      <td>1.72</td>\n",
       "      <td>0.000000</td>\n",
       "      <td>31.64</td>\n",
       "      <td>100.00</td>\n",
       "      <td>Yes</td>\n",
       "      <td>35279</td>\n",
       "      <td>1</td>\n",
       "      <td>2008</td>\n",
       "    </tr>\n",
       "    <tr>\n",
       "      <th>4018</th>\n",
       "      <td>Home Loan State Bank</td>\n",
       "      <td>2009Q4</td>\n",
       "      <td>11.87</td>\n",
       "      <td>2.08</td>\n",
       "      <td>16.117118</td>\n",
       "      <td>14.33</td>\n",
       "      <td>0.71</td>\n",
       "      <td>13.66</td>\n",
       "      <td>14.87</td>\n",
       "      <td>0.000000</td>\n",
       "      <td>23.03</td>\n",
       "      <td>100.74</td>\n",
       "      <td>No</td>\n",
       "      <td>90040</td>\n",
       "      <td>0</td>\n",
       "      <td>2009</td>\n",
       "    </tr>\n",
       "    <tr>\n",
       "      <th>3632</th>\n",
       "      <td>Oglethorpe Bank</td>\n",
       "      <td>2008Q2</td>\n",
       "      <td>9.08</td>\n",
       "      <td>14.32</td>\n",
       "      <td>34.042535</td>\n",
       "      <td>8.85</td>\n",
       "      <td>0.41</td>\n",
       "      <td>19.26</td>\n",
       "      <td>8.15</td>\n",
       "      <td>0.000000</td>\n",
       "      <td>32.50</td>\n",
       "      <td>98.63</td>\n",
       "      <td>No</td>\n",
       "      <td>57440</td>\n",
       "      <td>0</td>\n",
       "      <td>2008</td>\n",
       "    </tr>\n",
       "    <tr>\n",
       "      <th>3358</th>\n",
       "      <td>Red River Bank</td>\n",
       "      <td>2009Q4</td>\n",
       "      <td>11.80</td>\n",
       "      <td>2.90</td>\n",
       "      <td>47.521313</td>\n",
       "      <td>0.00</td>\n",
       "      <td>0.04</td>\n",
       "      <td>6.94</td>\n",
       "      <td>3.24</td>\n",
       "      <td>0.167234</td>\n",
       "      <td>25.88</td>\n",
       "      <td>101.07</td>\n",
       "      <td>No</td>\n",
       "      <td>34980</td>\n",
       "      <td>0</td>\n",
       "      <td>2009</td>\n",
       "    </tr>\n",
       "    <tr>\n",
       "      <th>3891</th>\n",
       "      <td>Americas United Bank</td>\n",
       "      <td>2008Q1</td>\n",
       "      <td>30.89</td>\n",
       "      <td>0.00</td>\n",
       "      <td>23.745358</td>\n",
       "      <td>8.65</td>\n",
       "      <td>0.00</td>\n",
       "      <td>5.59</td>\n",
       "      <td>44.65</td>\n",
       "      <td>0.000000</td>\n",
       "      <td>17.67</td>\n",
       "      <td>102.47</td>\n",
       "      <td>No</td>\n",
       "      <td>58360</td>\n",
       "      <td>0</td>\n",
       "      <td>2008</td>\n",
       "    </tr>\n",
       "  </tbody>\n",
       "</table>\n",
       "</div>"
      ],
      "text/plain": [
       "                   Bank Name Quarter  Tier One  Texas       Size  \\\n",
       "3441  High Desert State Bank  2008Q1     11.43  44.31  24.578474   \n",
       "4018    Home Loan State Bank  2009Q4     11.87   2.08  16.117118   \n",
       "3632         Oglethorpe Bank  2008Q2      9.08  14.32  34.042535   \n",
       "3358          Red River Bank  2009Q4     11.80   2.90  47.521313   \n",
       "3891    Americas United Bank  2008Q1     30.89   0.00  23.745358   \n",
       "\n",
       "      Brokered Deposits  Net Chargeoffs  Constr and Land Dev Loans  \\\n",
       "3441               0.00            0.08                      74.36   \n",
       "4018              14.33            0.71                      13.66   \n",
       "3632               8.85            0.41                      19.26   \n",
       "3358               0.00            0.04                       6.94   \n",
       "3891               8.65            0.00                       5.59   \n",
       "\n",
       "      Change in Portfolio Mix  NP CRE to Assets  \\\n",
       "3441                     1.72          0.000000   \n",
       "4018                    14.87          0.000000   \n",
       "3632                     8.15          0.000000   \n",
       "3358                     3.24          0.167234   \n",
       "3891                    44.65          0.000000   \n",
       "\n",
       "      Volatile Liabilities to Assets  Securities Failed during 2010Q2  \\\n",
       "3441                           31.64      100.00                  Yes   \n",
       "4018                           23.03      100.74                   No   \n",
       "3632                           32.50       98.63                   No   \n",
       "3358                           25.88      101.07                   No   \n",
       "3891                           17.67      102.47                   No   \n",
       "\n",
       "      Cert Number  Failed or Not  Year  \n",
       "3441        35279              1  2008  \n",
       "4018        90040              0  2009  \n",
       "3632        57440              0  2008  \n",
       "3358        34980              0  2009  \n",
       "3891        58360              0  2008  "
      ]
     },
     "execution_count": 30,
     "metadata": {},
     "output_type": "execute_result"
    }
   ],
   "source": [
    "y_new = model.predict_proba(X_test)\n",
    "top_picks_indexes = -y_new[:,1].argsort()[:5]\n",
    "df.iloc[top_picks_indexes]"
   ]
  },
  {
   "cell_type": "markdown",
   "metadata": {},
   "source": [
    "High Desert State Bank, Home Loan State Bank, Oglethorpe Bank, Red River Bank and Americas United Bank are most likely to fail in the near future because they have low Texas, high Construction and Land Development Loans.\n",
    "\n",
    "Out of the top 5 banks that will fail, 4 haven't failed yet. These have less texas and high Constr and Land Dev Loans. These were the best two predictors as calculated above and generally it is a trend that banks having more land and high construction loans tend to fail more. Similarly with less Texas, they have a high chance of failing. This pattern can be seen in the banks in my list (analyzed above).\n",
    "\n",
    "This model is biased though because the number of banks that have failed are very less. And so the model will be skewed towards the banks not failing."
   ]
  }
 ],
 "metadata": {
  "kernelspec": {
   "display_name": "Python 3",
   "language": "python",
   "name": "python3"
  },
  "language_info": {
   "codemirror_mode": {
    "name": "ipython",
    "version": 3
   },
   "file_extension": ".py",
   "mimetype": "text/x-python",
   "name": "python",
   "nbconvert_exporter": "python",
   "pygments_lexer": "ipython3",
   "version": "3.6.5"
  }
 },
 "nbformat": 4,
 "nbformat_minor": 2
}
